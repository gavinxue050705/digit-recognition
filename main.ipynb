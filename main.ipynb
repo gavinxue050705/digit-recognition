{
 "cells": [
  {
   "cell_type": "code",
   "execution_count": 2,
   "metadata": {},
   "outputs": [
    {
     "name": "stderr",
     "output_type": "stream",
     "text": [
      "/Users/gavinxue/Library/Python/3.9/lib/python/site-packages/urllib3/__init__.py:34: NotOpenSSLWarning: urllib3 v2 only supports OpenSSL 1.1.1+, currently the 'ssl' module is compiled with 'LibreSSL 2.8.3'. See: https://github.com/urllib3/urllib3/issues/3020\n",
      "  warnings.warn(\n"
     ]
    }
   ],
   "source": [
    "from torchvision import datasets\n",
    "from torchvision.transforms import ToTensor"
   ]
  },
  {
   "cell_type": "code",
   "execution_count": 4,
   "metadata": {},
   "outputs": [
    {
     "name": "stdout",
     "output_type": "stream",
     "text": [
      "Downloading http://yann.lecun.com/exdb/mnist/train-images-idx3-ubyte.gz\n",
      "Downloading http://yann.lecun.com/exdb/mnist/train-images-idx3-ubyte.gz to data/MNIST/raw/train-images-idx3-ubyte.gz\n"
     ]
    },
    {
     "name": "stderr",
     "output_type": "stream",
     "text": [
      "100.0%\n"
     ]
    },
    {
     "name": "stdout",
     "output_type": "stream",
     "text": [
      "Extracting data/MNIST/raw/train-images-idx3-ubyte.gz to data/MNIST/raw\n",
      "\n",
      "Downloading http://yann.lecun.com/exdb/mnist/train-labels-idx1-ubyte.gz\n",
      "Downloading http://yann.lecun.com/exdb/mnist/train-labels-idx1-ubyte.gz to data/MNIST/raw/train-labels-idx1-ubyte.gz\n"
     ]
    },
    {
     "name": "stderr",
     "output_type": "stream",
     "text": [
      "100.0%\n",
      "9.9%"
     ]
    },
    {
     "name": "stdout",
     "output_type": "stream",
     "text": [
      "Extracting data/MNIST/raw/train-labels-idx1-ubyte.gz to data/MNIST/raw\n",
      "\n",
      "Downloading http://yann.lecun.com/exdb/mnist/t10k-images-idx3-ubyte.gz\n",
      "Downloading http://yann.lecun.com/exdb/mnist/t10k-images-idx3-ubyte.gz to data/MNIST/raw/t10k-images-idx3-ubyte.gz\n"
     ]
    },
    {
     "name": "stderr",
     "output_type": "stream",
     "text": [
      "100.0%\n",
      "100.0%\n"
     ]
    },
    {
     "name": "stdout",
     "output_type": "stream",
     "text": [
      "Extracting data/MNIST/raw/t10k-images-idx3-ubyte.gz to data/MNIST/raw\n",
      "\n",
      "Downloading http://yann.lecun.com/exdb/mnist/t10k-labels-idx1-ubyte.gz\n",
      "Downloading http://yann.lecun.com/exdb/mnist/t10k-labels-idx1-ubyte.gz to data/MNIST/raw/t10k-labels-idx1-ubyte.gz\n",
      "Extracting data/MNIST/raw/t10k-labels-idx1-ubyte.gz to data/MNIST/raw\n",
      "\n"
     ]
    }
   ],
   "source": [
    "train_data = datasets.MNIST(\n",
    "    root = 'data',\n",
    "    train = True,\n",
    "    transform = ToTensor(),\n",
    "    download= True\n",
    ")\n",
    "\n",
    "test_data = datasets.MNIST(\n",
    "    root = 'data',\n",
    "    train = False,\n",
    "    transform = ToTensor(),\n",
    "    download= True\n",
    ")"
   ]
  },
  {
   "cell_type": "code",
   "execution_count": 6,
   "metadata": {},
   "outputs": [
    {
     "data": {
      "text/plain": [
       "Dataset MNIST\n",
       "    Number of datapoints: 60000\n",
       "    Root location: data\n",
       "    Split: Train\n",
       "    StandardTransform\n",
       "Transform: ToTensor()"
      ]
     },
     "execution_count": 6,
     "metadata": {},
     "output_type": "execute_result"
    }
   ],
   "source": [
    "train_data"
   ]
  },
  {
   "cell_type": "code",
   "execution_count": 7,
   "metadata": {},
   "outputs": [
    {
     "data": {
      "text/plain": [
       "Dataset MNIST\n",
       "    Number of datapoints: 10000\n",
       "    Root location: data\n",
       "    Split: Test\n",
       "    StandardTransform\n",
       "Transform: ToTensor()"
      ]
     },
     "execution_count": 7,
     "metadata": {},
     "output_type": "execute_result"
    }
   ],
   "source": [
    "test_data"
   ]
  },
  {
   "cell_type": "code",
   "execution_count": 10,
   "metadata": {},
   "outputs": [
    {
     "data": {
      "text/plain": [
       "torch.Size([60000, 28, 28])"
      ]
     },
     "execution_count": 10,
     "metadata": {},
     "output_type": "execute_result"
    }
   ],
   "source": [
    "train_data.data.size()"
   ]
  },
  {
   "cell_type": "code",
   "execution_count": 11,
   "metadata": {},
   "outputs": [
    {
     "data": {
      "text/plain": [
       "torch.Size([10000, 28, 28])"
      ]
     },
     "execution_count": 11,
     "metadata": {},
     "output_type": "execute_result"
    }
   ],
   "source": [
    "test_data.data.shape"
   ]
  },
  {
   "cell_type": "code",
   "execution_count": 12,
   "metadata": {},
   "outputs": [
    {
     "data": {
      "text/plain": [
       "tensor([5, 0, 4,  ..., 5, 6, 8])"
      ]
     },
     "execution_count": 12,
     "metadata": {},
     "output_type": "execute_result"
    }
   ],
   "source": [
    "train_data.targets"
   ]
  },
  {
   "cell_type": "code",
   "execution_count": 13,
   "metadata": {},
   "outputs": [],
   "source": [
    "from torch.utils.data import DataLoader\n",
    "\n",
    "loaders = {\n",
    "    'train': DataLoader(train_data,\n",
    "                        batch_size=100,\n",
    "                        shuffle=True,\n",
    "                        num_workers=1),\n",
    "    'test': DataLoader(test_data,\n",
    "                       batch_size=100,\n",
    "                       shuffle=True,\n",
    "                       num_workers=1),\n",
    "}"
   ]
  },
  {
   "cell_type": "code",
   "execution_count": 14,
   "metadata": {},
   "outputs": [
    {
     "data": {
      "text/plain": [
       "{'train': <torch.utils.data.dataloader.DataLoader at 0x159a9ab50>,\n",
       " 'test': <torch.utils.data.dataloader.DataLoader at 0x159a9afd0>}"
      ]
     },
     "execution_count": 14,
     "metadata": {},
     "output_type": "execute_result"
    }
   ],
   "source": [
    "loaders"
   ]
  },
  {
   "cell_type": "code",
   "execution_count": 15,
   "metadata": {},
   "outputs": [],
   "source": [
    "import torch.nn as nn\n",
    "import torch.nn.functional as F\n",
    "import torch.optim as optim\n",
    "\n",
    "class CNN(nn.Module):\n",
    "    def __init__(self):\n",
    "        super(CNN, self).__init__()\n",
    "\n",
    "        self.conv1 = nn.Conv2d(1, 10, kernel_size=5)\n",
    "        self.conv2 = nn.Conv2d(10, 20, kernel_size=5)\n",
    "        self.conv2_drop = nn.Dropout2d()\n",
    "        self.fc1 = nn.Linear(320, 50)\n",
    "        self.fc2 = nn.Linear(50, 10)\n",
    "\n",
    "    def forward(self, x):\n",
    "        x = F.relu(F.max_pool2d(self.conv1(x), 2))\n",
    "        x = F.relu(F.max_pool2d(self.conv2_drop(self.conv2(x)), 2))\n",
    "        x = x.view(-1, 320)\n",
    "        x = F.relu(self.fc1(x))\n",
    "        x = F.dropout(x, training=self.training)\n",
    "        x = self.fc2(x)\n",
    "\n",
    "        return F.softmax(x)"
   ]
  },
  {
   "cell_type": "code",
   "execution_count": 23,
   "metadata": {},
   "outputs": [],
   "source": [
    "import torch\n",
    "\n",
    "device = torch.device(\"cuda\" if torch.cuda.is_available() else 'cpu')\n",
    "\n",
    "model = CNN().to(device)\n",
    "\n",
    "optimizer = optim.Adam(model.parameters(), lr=0.001)\n",
    "\n",
    "loss_fn = nn.CrossEntropyLoss()\n",
    "\n",
    "def train(epoch):\n",
    "    model.train()\n",
    "    for batch_indx, (data, target) in enumerate(loaders['train']):\n",
    "        data, target = data.to(device), target.to(device)\n",
    "        optimizer.zero_grad()\n",
    "        output = model(data)\n",
    "        loss = loss_fn(output, target)\n",
    "        loss.backward()\n",
    "        optimizer.step()\n",
    "        if batch_indx % 20 == 0:\n",
    "            print(f'Train Epoch: {epoch} [{batch_indx * len(data)}/{len(loaders[\"train\"].dataset)} ({100. * batch_indx / len(loaders[\"train\"]):.0f}%)]\\t{loss.item():.6f}')\n",
    "\n",
    "def test():\n",
    "    model.eval()\n",
    "\n",
    "    test_loss = 0\n",
    "    correct = 0\n",
    "\n",
    "    with torch.no_grad():\n",
    "        for data, target in loaders['test']:\n",
    "            data, target = data.to(device), target.to(device)\n",
    "            output = model(data)\n",
    "            test_loss = loss_fn(output, target).item()\n",
    "            pred = output.argmax(dim=1, keepdim=True)\n",
    "            correct = pred.eq(target.view_as(pred)).sum().item()\n",
    "\n",
    "    test_loss = len(loaders['test'].dataset)\n",
    "    print(f'\\nTest set: Average loss: {test_loss:.4f}, Accuracy {correct}/{len(loaders[\"test\"].dataset)} ({100. * correct / len(loaders[\"test\"].dataset):.0f}%\\n)')"
   ]
  },
  {
   "cell_type": "code",
   "execution_count": 24,
   "metadata": {},
   "outputs": [
    {
     "name": "stderr",
     "output_type": "stream",
     "text": [
      "/Users/gavinxue/Library/Python/3.9/lib/python/site-packages/urllib3/__init__.py:34: NotOpenSSLWarning: urllib3 v2 only supports OpenSSL 1.1.1+, currently the 'ssl' module is compiled with 'LibreSSL 2.8.3'. See: https://github.com/urllib3/urllib3/issues/3020\n",
      "  warnings.warn(\n",
      "/var/folders/v9/22hd8vh13rl1n0dqbfsly1v40000gn/T/ipykernel_80574/1791202494.py:23: UserWarning: Implicit dimension choice for softmax has been deprecated. Change the call to include dim=X as an argument.\n",
      "  return F.softmax(x)\n"
     ]
    },
    {
     "name": "stdout",
     "output_type": "stream",
     "text": [
      "Train Epoch: 1 [0/60000 (0%)]\t2.304323\n",
      "Train Epoch: 1 [2000/60000 (3%)]\t2.296437\n",
      "Train Epoch: 1 [4000/60000 (7%)]\t2.261617\n",
      "Train Epoch: 1 [6000/60000 (10%)]\t2.104308\n",
      "Train Epoch: 1 [8000/60000 (13%)]\t1.954468\n",
      "Train Epoch: 1 [10000/60000 (17%)]\t1.884838\n",
      "Train Epoch: 1 [12000/60000 (20%)]\t1.883588\n",
      "Train Epoch: 1 [14000/60000 (23%)]\t1.782172\n",
      "Train Epoch: 1 [16000/60000 (27%)]\t1.678362\n",
      "Train Epoch: 1 [18000/60000 (30%)]\t1.750116\n",
      "Train Epoch: 1 [20000/60000 (33%)]\t1.749600\n",
      "Train Epoch: 1 [22000/60000 (37%)]\t1.683538\n",
      "Train Epoch: 1 [24000/60000 (40%)]\t1.681810\n",
      "Train Epoch: 1 [26000/60000 (43%)]\t1.680615\n",
      "Train Epoch: 1 [28000/60000 (47%)]\t1.617038\n",
      "Train Epoch: 1 [30000/60000 (50%)]\t1.635078\n",
      "Train Epoch: 1 [32000/60000 (53%)]\t1.690678\n",
      "Train Epoch: 1 [34000/60000 (57%)]\t1.669081\n",
      "Train Epoch: 1 [36000/60000 (60%)]\t1.631492\n",
      "Train Epoch: 1 [38000/60000 (63%)]\t1.625873\n",
      "Train Epoch: 1 [40000/60000 (67%)]\t1.640929\n",
      "Train Epoch: 1 [42000/60000 (70%)]\t1.610900\n",
      "Train Epoch: 1 [44000/60000 (73%)]\t1.555032\n",
      "Train Epoch: 1 [46000/60000 (77%)]\t1.566073\n",
      "Train Epoch: 1 [48000/60000 (80%)]\t1.599258\n",
      "Train Epoch: 1 [50000/60000 (83%)]\t1.601986\n",
      "Train Epoch: 1 [52000/60000 (87%)]\t1.635123\n",
      "Train Epoch: 1 [54000/60000 (90%)]\t1.567939\n",
      "Train Epoch: 1 [56000/60000 (93%)]\t1.606654\n",
      "Train Epoch: 1 [58000/60000 (97%)]\t1.591754\n"
     ]
    },
    {
     "name": "stderr",
     "output_type": "stream",
     "text": [
      "/Users/gavinxue/Library/Python/3.9/lib/python/site-packages/urllib3/__init__.py:34: NotOpenSSLWarning: urllib3 v2 only supports OpenSSL 1.1.1+, currently the 'ssl' module is compiled with 'LibreSSL 2.8.3'. See: https://github.com/urllib3/urllib3/issues/3020\n",
      "  warnings.warn(\n"
     ]
    },
    {
     "name": "stdout",
     "output_type": "stream",
     "text": [
      "\n",
      "Test set: Average loss: 10000.0000, Accuracy 94/10000 (1%\n",
      ")\n"
     ]
    },
    {
     "name": "stderr",
     "output_type": "stream",
     "text": [
      "/Users/gavinxue/Library/Python/3.9/lib/python/site-packages/urllib3/__init__.py:34: NotOpenSSLWarning: urllib3 v2 only supports OpenSSL 1.1.1+, currently the 'ssl' module is compiled with 'LibreSSL 2.8.3'. See: https://github.com/urllib3/urllib3/issues/3020\n",
      "  warnings.warn(\n"
     ]
    },
    {
     "name": "stdout",
     "output_type": "stream",
     "text": [
      "Train Epoch: 2 [0/60000 (0%)]\t1.588602\n",
      "Train Epoch: 2 [2000/60000 (3%)]\t1.624725\n",
      "Train Epoch: 2 [4000/60000 (7%)]\t1.609194\n",
      "Train Epoch: 2 [6000/60000 (10%)]\t1.653158\n",
      "Train Epoch: 2 [8000/60000 (13%)]\t1.632364\n",
      "Train Epoch: 2 [10000/60000 (17%)]\t1.588100\n",
      "Train Epoch: 2 [12000/60000 (20%)]\t1.611947\n",
      "Train Epoch: 2 [14000/60000 (23%)]\t1.622497\n",
      "Train Epoch: 2 [16000/60000 (27%)]\t1.546946\n",
      "Train Epoch: 2 [18000/60000 (30%)]\t1.604085\n",
      "Train Epoch: 2 [20000/60000 (33%)]\t1.530523\n",
      "Train Epoch: 2 [22000/60000 (37%)]\t1.586367\n",
      "Train Epoch: 2 [24000/60000 (40%)]\t1.565059\n",
      "Train Epoch: 2 [26000/60000 (43%)]\t1.569862\n",
      "Train Epoch: 2 [28000/60000 (47%)]\t1.588881\n",
      "Train Epoch: 2 [30000/60000 (50%)]\t1.590318\n",
      "Train Epoch: 2 [32000/60000 (53%)]\t1.535983\n",
      "Train Epoch: 2 [34000/60000 (57%)]\t1.549324\n",
      "Train Epoch: 2 [36000/60000 (60%)]\t1.547133\n",
      "Train Epoch: 2 [38000/60000 (63%)]\t1.648803\n",
      "Train Epoch: 2 [40000/60000 (67%)]\t1.597556\n",
      "Train Epoch: 2 [42000/60000 (70%)]\t1.574046\n",
      "Train Epoch: 2 [44000/60000 (73%)]\t1.626274\n",
      "Train Epoch: 2 [46000/60000 (77%)]\t1.601905\n",
      "Train Epoch: 2 [48000/60000 (80%)]\t1.577180\n",
      "Train Epoch: 2 [50000/60000 (83%)]\t1.548396\n",
      "Train Epoch: 2 [52000/60000 (87%)]\t1.616981\n",
      "Train Epoch: 2 [54000/60000 (90%)]\t1.552583\n",
      "Train Epoch: 2 [56000/60000 (93%)]\t1.556778\n",
      "Train Epoch: 2 [58000/60000 (97%)]\t1.638371\n"
     ]
    },
    {
     "name": "stderr",
     "output_type": "stream",
     "text": [
      "/Users/gavinxue/Library/Python/3.9/lib/python/site-packages/urllib3/__init__.py:34: NotOpenSSLWarning: urllib3 v2 only supports OpenSSL 1.1.1+, currently the 'ssl' module is compiled with 'LibreSSL 2.8.3'. See: https://github.com/urllib3/urllib3/issues/3020\n",
      "  warnings.warn(\n"
     ]
    },
    {
     "name": "stdout",
     "output_type": "stream",
     "text": [
      "\n",
      "Test set: Average loss: 10000.0000, Accuracy 97/10000 (1%\n",
      ")\n"
     ]
    },
    {
     "name": "stderr",
     "output_type": "stream",
     "text": [
      "/Users/gavinxue/Library/Python/3.9/lib/python/site-packages/urllib3/__init__.py:34: NotOpenSSLWarning: urllib3 v2 only supports OpenSSL 1.1.1+, currently the 'ssl' module is compiled with 'LibreSSL 2.8.3'. See: https://github.com/urllib3/urllib3/issues/3020\n",
      "  warnings.warn(\n"
     ]
    },
    {
     "name": "stdout",
     "output_type": "stream",
     "text": [
      "Train Epoch: 3 [0/60000 (0%)]\t1.577821\n",
      "Train Epoch: 3 [2000/60000 (3%)]\t1.515036\n",
      "Train Epoch: 3 [4000/60000 (7%)]\t1.614178\n",
      "Train Epoch: 3 [6000/60000 (10%)]\t1.608990\n",
      "Train Epoch: 3 [8000/60000 (13%)]\t1.541201\n",
      "Train Epoch: 3 [10000/60000 (17%)]\t1.641757\n",
      "Train Epoch: 3 [12000/60000 (20%)]\t1.592999\n",
      "Train Epoch: 3 [14000/60000 (23%)]\t1.601651\n",
      "Train Epoch: 3 [16000/60000 (27%)]\t1.561725\n",
      "Train Epoch: 3 [18000/60000 (30%)]\t1.530875\n",
      "Train Epoch: 3 [20000/60000 (33%)]\t1.568719\n",
      "Train Epoch: 3 [22000/60000 (37%)]\t1.555106\n",
      "Train Epoch: 3 [24000/60000 (40%)]\t1.568150\n",
      "Train Epoch: 3 [26000/60000 (43%)]\t1.567724\n",
      "Train Epoch: 3 [28000/60000 (47%)]\t1.554760\n",
      "Train Epoch: 3 [30000/60000 (50%)]\t1.619640\n",
      "Train Epoch: 3 [32000/60000 (53%)]\t1.610278\n",
      "Train Epoch: 3 [34000/60000 (57%)]\t1.534864\n",
      "Train Epoch: 3 [36000/60000 (60%)]\t1.551517\n",
      "Train Epoch: 3 [38000/60000 (63%)]\t1.516482\n",
      "Train Epoch: 3 [40000/60000 (67%)]\t1.568136\n",
      "Train Epoch: 3 [42000/60000 (70%)]\t1.594236\n",
      "Train Epoch: 3 [44000/60000 (73%)]\t1.588562\n",
      "Train Epoch: 3 [46000/60000 (77%)]\t1.551766\n",
      "Train Epoch: 3 [48000/60000 (80%)]\t1.576167\n",
      "Train Epoch: 3 [50000/60000 (83%)]\t1.573703\n",
      "Train Epoch: 3 [52000/60000 (87%)]\t1.549927\n",
      "Train Epoch: 3 [54000/60000 (90%)]\t1.579121\n",
      "Train Epoch: 3 [56000/60000 (93%)]\t1.514781\n",
      "Train Epoch: 3 [58000/60000 (97%)]\t1.603278\n"
     ]
    },
    {
     "name": "stderr",
     "output_type": "stream",
     "text": [
      "/Users/gavinxue/Library/Python/3.9/lib/python/site-packages/urllib3/__init__.py:34: NotOpenSSLWarning: urllib3 v2 only supports OpenSSL 1.1.1+, currently the 'ssl' module is compiled with 'LibreSSL 2.8.3'. See: https://github.com/urllib3/urllib3/issues/3020\n",
      "  warnings.warn(\n"
     ]
    },
    {
     "name": "stdout",
     "output_type": "stream",
     "text": [
      "\n",
      "Test set: Average loss: 10000.0000, Accuracy 97/10000 (1%\n",
      ")\n"
     ]
    },
    {
     "name": "stderr",
     "output_type": "stream",
     "text": [
      "/Users/gavinxue/Library/Python/3.9/lib/python/site-packages/urllib3/__init__.py:34: NotOpenSSLWarning: urllib3 v2 only supports OpenSSL 1.1.1+, currently the 'ssl' module is compiled with 'LibreSSL 2.8.3'. See: https://github.com/urllib3/urllib3/issues/3020\n",
      "  warnings.warn(\n"
     ]
    },
    {
     "name": "stdout",
     "output_type": "stream",
     "text": [
      "Train Epoch: 4 [0/60000 (0%)]\t1.566594\n",
      "Train Epoch: 4 [2000/60000 (3%)]\t1.537254\n",
      "Train Epoch: 4 [4000/60000 (7%)]\t1.568332\n",
      "Train Epoch: 4 [6000/60000 (10%)]\t1.547958\n",
      "Train Epoch: 4 [8000/60000 (13%)]\t1.582084\n",
      "Train Epoch: 4 [10000/60000 (17%)]\t1.550116\n",
      "Train Epoch: 4 [12000/60000 (20%)]\t1.541850\n",
      "Train Epoch: 4 [14000/60000 (23%)]\t1.594784\n",
      "Train Epoch: 4 [16000/60000 (27%)]\t1.585251\n",
      "Train Epoch: 4 [18000/60000 (30%)]\t1.506979\n",
      "Train Epoch: 4 [20000/60000 (33%)]\t1.588935\n",
      "Train Epoch: 4 [22000/60000 (37%)]\t1.603178\n",
      "Train Epoch: 4 [24000/60000 (40%)]\t1.586294\n",
      "Train Epoch: 4 [26000/60000 (43%)]\t1.556870\n",
      "Train Epoch: 4 [28000/60000 (47%)]\t1.534234\n",
      "Train Epoch: 4 [30000/60000 (50%)]\t1.546227\n",
      "Train Epoch: 4 [32000/60000 (53%)]\t1.561155\n",
      "Train Epoch: 4 [34000/60000 (57%)]\t1.521329\n",
      "Train Epoch: 4 [36000/60000 (60%)]\t1.570400\n",
      "Train Epoch: 4 [38000/60000 (63%)]\t1.560495\n",
      "Train Epoch: 4 [40000/60000 (67%)]\t1.516524\n",
      "Train Epoch: 4 [42000/60000 (70%)]\t1.536180\n",
      "Train Epoch: 4 [44000/60000 (73%)]\t1.512942\n",
      "Train Epoch: 4 [46000/60000 (77%)]\t1.563403\n",
      "Train Epoch: 4 [48000/60000 (80%)]\t1.569103\n",
      "Train Epoch: 4 [50000/60000 (83%)]\t1.501899\n",
      "Train Epoch: 4 [52000/60000 (87%)]\t1.580984\n",
      "Train Epoch: 4 [54000/60000 (90%)]\t1.569152\n",
      "Train Epoch: 4 [56000/60000 (93%)]\t1.561797\n",
      "Train Epoch: 4 [58000/60000 (97%)]\t1.571780\n"
     ]
    },
    {
     "name": "stderr",
     "output_type": "stream",
     "text": [
      "/Users/gavinxue/Library/Python/3.9/lib/python/site-packages/urllib3/__init__.py:34: NotOpenSSLWarning: urllib3 v2 only supports OpenSSL 1.1.1+, currently the 'ssl' module is compiled with 'LibreSSL 2.8.3'. See: https://github.com/urllib3/urllib3/issues/3020\n",
      "  warnings.warn(\n"
     ]
    },
    {
     "name": "stdout",
     "output_type": "stream",
     "text": [
      "\n",
      "Test set: Average loss: 10000.0000, Accuracy 98/10000 (1%\n",
      ")\n"
     ]
    },
    {
     "name": "stderr",
     "output_type": "stream",
     "text": [
      "/Users/gavinxue/Library/Python/3.9/lib/python/site-packages/urllib3/__init__.py:34: NotOpenSSLWarning: urllib3 v2 only supports OpenSSL 1.1.1+, currently the 'ssl' module is compiled with 'LibreSSL 2.8.3'. See: https://github.com/urllib3/urllib3/issues/3020\n",
      "  warnings.warn(\n"
     ]
    },
    {
     "name": "stdout",
     "output_type": "stream",
     "text": [
      "Train Epoch: 5 [0/60000 (0%)]\t1.545014\n",
      "Train Epoch: 5 [2000/60000 (3%)]\t1.568398\n",
      "Train Epoch: 5 [4000/60000 (7%)]\t1.588310\n",
      "Train Epoch: 5 [6000/60000 (10%)]\t1.564564\n",
      "Train Epoch: 5 [8000/60000 (13%)]\t1.553819\n",
      "Train Epoch: 5 [10000/60000 (17%)]\t1.502696\n",
      "Train Epoch: 5 [12000/60000 (20%)]\t1.508043\n",
      "Train Epoch: 5 [14000/60000 (23%)]\t1.564929\n",
      "Train Epoch: 5 [16000/60000 (27%)]\t1.572198\n",
      "Train Epoch: 5 [18000/60000 (30%)]\t1.591231\n",
      "Train Epoch: 5 [20000/60000 (33%)]\t1.553846\n",
      "Train Epoch: 5 [22000/60000 (37%)]\t1.523453\n",
      "Train Epoch: 5 [24000/60000 (40%)]\t1.521249\n",
      "Train Epoch: 5 [26000/60000 (43%)]\t1.537001\n",
      "Train Epoch: 5 [28000/60000 (47%)]\t1.574088\n",
      "Train Epoch: 5 [30000/60000 (50%)]\t1.512493\n",
      "Train Epoch: 5 [32000/60000 (53%)]\t1.525998\n",
      "Train Epoch: 5 [34000/60000 (57%)]\t1.527439\n",
      "Train Epoch: 5 [36000/60000 (60%)]\t1.548922\n",
      "Train Epoch: 5 [38000/60000 (63%)]\t1.523830\n",
      "Train Epoch: 5 [40000/60000 (67%)]\t1.569947\n",
      "Train Epoch: 5 [42000/60000 (70%)]\t1.526334\n",
      "Train Epoch: 5 [44000/60000 (73%)]\t1.603703\n",
      "Train Epoch: 5 [46000/60000 (77%)]\t1.524411\n",
      "Train Epoch: 5 [48000/60000 (80%)]\t1.529153\n",
      "Train Epoch: 5 [50000/60000 (83%)]\t1.529254\n",
      "Train Epoch: 5 [52000/60000 (87%)]\t1.588176\n",
      "Train Epoch: 5 [54000/60000 (90%)]\t1.521337\n",
      "Train Epoch: 5 [56000/60000 (93%)]\t1.529412\n",
      "Train Epoch: 5 [58000/60000 (97%)]\t1.551925\n"
     ]
    },
    {
     "name": "stderr",
     "output_type": "stream",
     "text": [
      "/Users/gavinxue/Library/Python/3.9/lib/python/site-packages/urllib3/__init__.py:34: NotOpenSSLWarning: urllib3 v2 only supports OpenSSL 1.1.1+, currently the 'ssl' module is compiled with 'LibreSSL 2.8.3'. See: https://github.com/urllib3/urllib3/issues/3020\n",
      "  warnings.warn(\n"
     ]
    },
    {
     "name": "stdout",
     "output_type": "stream",
     "text": [
      "\n",
      "Test set: Average loss: 10000.0000, Accuracy 97/10000 (1%\n",
      ")\n"
     ]
    },
    {
     "name": "stderr",
     "output_type": "stream",
     "text": [
      "/Users/gavinxue/Library/Python/3.9/lib/python/site-packages/urllib3/__init__.py:34: NotOpenSSLWarning: urllib3 v2 only supports OpenSSL 1.1.1+, currently the 'ssl' module is compiled with 'LibreSSL 2.8.3'. See: https://github.com/urllib3/urllib3/issues/3020\n",
      "  warnings.warn(\n"
     ]
    },
    {
     "name": "stdout",
     "output_type": "stream",
     "text": [
      "Train Epoch: 6 [0/60000 (0%)]\t1.559789\n",
      "Train Epoch: 6 [2000/60000 (3%)]\t1.551074\n",
      "Train Epoch: 6 [4000/60000 (7%)]\t1.500956\n",
      "Train Epoch: 6 [6000/60000 (10%)]\t1.526887\n",
      "Train Epoch: 6 [8000/60000 (13%)]\t1.555235\n",
      "Train Epoch: 6 [10000/60000 (17%)]\t1.519987\n",
      "Train Epoch: 6 [12000/60000 (20%)]\t1.523092\n",
      "Train Epoch: 6 [14000/60000 (23%)]\t1.548700\n",
      "Train Epoch: 6 [16000/60000 (27%)]\t1.522985\n",
      "Train Epoch: 6 [18000/60000 (30%)]\t1.542386\n",
      "Train Epoch: 6 [20000/60000 (33%)]\t1.511373\n",
      "Train Epoch: 6 [22000/60000 (37%)]\t1.541016\n",
      "Train Epoch: 6 [24000/60000 (40%)]\t1.554103\n",
      "Train Epoch: 6 [26000/60000 (43%)]\t1.540303\n",
      "Train Epoch: 6 [28000/60000 (47%)]\t1.535767\n",
      "Train Epoch: 6 [30000/60000 (50%)]\t1.512686\n",
      "Train Epoch: 6 [32000/60000 (53%)]\t1.542965\n",
      "Train Epoch: 6 [34000/60000 (57%)]\t1.526072\n",
      "Train Epoch: 6 [36000/60000 (60%)]\t1.525016\n",
      "Train Epoch: 6 [38000/60000 (63%)]\t1.540987\n",
      "Train Epoch: 6 [40000/60000 (67%)]\t1.562258\n",
      "Train Epoch: 6 [42000/60000 (70%)]\t1.540283\n",
      "Train Epoch: 6 [44000/60000 (73%)]\t1.530405\n",
      "Train Epoch: 6 [46000/60000 (77%)]\t1.534676\n",
      "Train Epoch: 6 [48000/60000 (80%)]\t1.535866\n",
      "Train Epoch: 6 [50000/60000 (83%)]\t1.566981\n",
      "Train Epoch: 6 [52000/60000 (87%)]\t1.554078\n",
      "Train Epoch: 6 [54000/60000 (90%)]\t1.541826\n",
      "Train Epoch: 6 [56000/60000 (93%)]\t1.531689\n",
      "Train Epoch: 6 [58000/60000 (97%)]\t1.525726\n"
     ]
    },
    {
     "name": "stderr",
     "output_type": "stream",
     "text": [
      "/Users/gavinxue/Library/Python/3.9/lib/python/site-packages/urllib3/__init__.py:34: NotOpenSSLWarning: urllib3 v2 only supports OpenSSL 1.1.1+, currently the 'ssl' module is compiled with 'LibreSSL 2.8.3'. See: https://github.com/urllib3/urllib3/issues/3020\n",
      "  warnings.warn(\n"
     ]
    },
    {
     "name": "stdout",
     "output_type": "stream",
     "text": [
      "\n",
      "Test set: Average loss: 10000.0000, Accuracy 98/10000 (1%\n",
      ")\n"
     ]
    },
    {
     "name": "stderr",
     "output_type": "stream",
     "text": [
      "/Users/gavinxue/Library/Python/3.9/lib/python/site-packages/urllib3/__init__.py:34: NotOpenSSLWarning: urllib3 v2 only supports OpenSSL 1.1.1+, currently the 'ssl' module is compiled with 'LibreSSL 2.8.3'. See: https://github.com/urllib3/urllib3/issues/3020\n",
      "  warnings.warn(\n"
     ]
    },
    {
     "name": "stdout",
     "output_type": "stream",
     "text": [
      "Train Epoch: 7 [0/60000 (0%)]\t1.528887\n",
      "Train Epoch: 7 [2000/60000 (3%)]\t1.533111\n",
      "Train Epoch: 7 [4000/60000 (7%)]\t1.516621\n",
      "Train Epoch: 7 [6000/60000 (10%)]\t1.546092\n",
      "Train Epoch: 7 [8000/60000 (13%)]\t1.510783\n",
      "Train Epoch: 7 [10000/60000 (17%)]\t1.510518\n",
      "Train Epoch: 7 [12000/60000 (20%)]\t1.518559\n",
      "Train Epoch: 7 [14000/60000 (23%)]\t1.568281\n",
      "Train Epoch: 7 [16000/60000 (27%)]\t1.545154\n",
      "Train Epoch: 7 [18000/60000 (30%)]\t1.529225\n",
      "Train Epoch: 7 [20000/60000 (33%)]\t1.548160\n",
      "Train Epoch: 7 [22000/60000 (37%)]\t1.531068\n",
      "Train Epoch: 7 [24000/60000 (40%)]\t1.491957\n",
      "Train Epoch: 7 [26000/60000 (43%)]\t1.546941\n",
      "Train Epoch: 7 [28000/60000 (47%)]\t1.544965\n",
      "Train Epoch: 7 [30000/60000 (50%)]\t1.542252\n",
      "Train Epoch: 7 [32000/60000 (53%)]\t1.504733\n",
      "Train Epoch: 7 [34000/60000 (57%)]\t1.544808\n",
      "Train Epoch: 7 [36000/60000 (60%)]\t1.546978\n",
      "Train Epoch: 7 [38000/60000 (63%)]\t1.531093\n",
      "Train Epoch: 7 [40000/60000 (67%)]\t1.541928\n",
      "Train Epoch: 7 [42000/60000 (70%)]\t1.507461\n",
      "Train Epoch: 7 [44000/60000 (73%)]\t1.500864\n",
      "Train Epoch: 7 [46000/60000 (77%)]\t1.513289\n",
      "Train Epoch: 7 [48000/60000 (80%)]\t1.523444\n",
      "Train Epoch: 7 [50000/60000 (83%)]\t1.489062\n",
      "Train Epoch: 7 [52000/60000 (87%)]\t1.508981\n",
      "Train Epoch: 7 [54000/60000 (90%)]\t1.508249\n",
      "Train Epoch: 7 [56000/60000 (93%)]\t1.542308\n",
      "Train Epoch: 7 [58000/60000 (97%)]\t1.535634\n"
     ]
    },
    {
     "name": "stderr",
     "output_type": "stream",
     "text": [
      "/Users/gavinxue/Library/Python/3.9/lib/python/site-packages/urllib3/__init__.py:34: NotOpenSSLWarning: urllib3 v2 only supports OpenSSL 1.1.1+, currently the 'ssl' module is compiled with 'LibreSSL 2.8.3'. See: https://github.com/urllib3/urllib3/issues/3020\n",
      "  warnings.warn(\n"
     ]
    },
    {
     "name": "stdout",
     "output_type": "stream",
     "text": [
      "\n",
      "Test set: Average loss: 10000.0000, Accuracy 98/10000 (1%\n",
      ")\n"
     ]
    },
    {
     "name": "stderr",
     "output_type": "stream",
     "text": [
      "/Users/gavinxue/Library/Python/3.9/lib/python/site-packages/urllib3/__init__.py:34: NotOpenSSLWarning: urllib3 v2 only supports OpenSSL 1.1.1+, currently the 'ssl' module is compiled with 'LibreSSL 2.8.3'. See: https://github.com/urllib3/urllib3/issues/3020\n",
      "  warnings.warn(\n"
     ]
    },
    {
     "name": "stdout",
     "output_type": "stream",
     "text": [
      "Train Epoch: 8 [0/60000 (0%)]\t1.501713\n",
      "Train Epoch: 8 [2000/60000 (3%)]\t1.550939\n",
      "Train Epoch: 8 [4000/60000 (7%)]\t1.515425\n",
      "Train Epoch: 8 [6000/60000 (10%)]\t1.478035\n",
      "Train Epoch: 8 [8000/60000 (13%)]\t1.525143\n",
      "Train Epoch: 8 [10000/60000 (17%)]\t1.504442\n",
      "Train Epoch: 8 [12000/60000 (20%)]\t1.565290\n",
      "Train Epoch: 8 [14000/60000 (23%)]\t1.511056\n",
      "Train Epoch: 8 [16000/60000 (27%)]\t1.519670\n",
      "Train Epoch: 8 [18000/60000 (30%)]\t1.524953\n",
      "Train Epoch: 8 [20000/60000 (33%)]\t1.513204\n",
      "Train Epoch: 8 [22000/60000 (37%)]\t1.470414\n",
      "Train Epoch: 8 [24000/60000 (40%)]\t1.529310\n",
      "Train Epoch: 8 [26000/60000 (43%)]\t1.527438\n",
      "Train Epoch: 8 [28000/60000 (47%)]\t1.530663\n",
      "Train Epoch: 8 [30000/60000 (50%)]\t1.534975\n",
      "Train Epoch: 8 [32000/60000 (53%)]\t1.488293\n",
      "Train Epoch: 8 [34000/60000 (57%)]\t1.534118\n",
      "Train Epoch: 8 [36000/60000 (60%)]\t1.499233\n",
      "Train Epoch: 8 [38000/60000 (63%)]\t1.546916\n",
      "Train Epoch: 8 [40000/60000 (67%)]\t1.544210\n",
      "Train Epoch: 8 [42000/60000 (70%)]\t1.515453\n",
      "Train Epoch: 8 [44000/60000 (73%)]\t1.548843\n",
      "Train Epoch: 8 [46000/60000 (77%)]\t1.523288\n",
      "Train Epoch: 8 [48000/60000 (80%)]\t1.525044\n",
      "Train Epoch: 8 [50000/60000 (83%)]\t1.487622\n",
      "Train Epoch: 8 [52000/60000 (87%)]\t1.511768\n",
      "Train Epoch: 8 [54000/60000 (90%)]\t1.549401\n",
      "Train Epoch: 8 [56000/60000 (93%)]\t1.524617\n",
      "Train Epoch: 8 [58000/60000 (97%)]\t1.492605\n"
     ]
    },
    {
     "name": "stderr",
     "output_type": "stream",
     "text": [
      "/Users/gavinxue/Library/Python/3.9/lib/python/site-packages/urllib3/__init__.py:34: NotOpenSSLWarning: urllib3 v2 only supports OpenSSL 1.1.1+, currently the 'ssl' module is compiled with 'LibreSSL 2.8.3'. See: https://github.com/urllib3/urllib3/issues/3020\n",
      "  warnings.warn(\n"
     ]
    },
    {
     "name": "stdout",
     "output_type": "stream",
     "text": [
      "\n",
      "Test set: Average loss: 10000.0000, Accuracy 100/10000 (1%\n",
      ")\n"
     ]
    },
    {
     "name": "stderr",
     "output_type": "stream",
     "text": [
      "/Users/gavinxue/Library/Python/3.9/lib/python/site-packages/urllib3/__init__.py:34: NotOpenSSLWarning: urllib3 v2 only supports OpenSSL 1.1.1+, currently the 'ssl' module is compiled with 'LibreSSL 2.8.3'. See: https://github.com/urllib3/urllib3/issues/3020\n",
      "  warnings.warn(\n"
     ]
    },
    {
     "name": "stdout",
     "output_type": "stream",
     "text": [
      "Train Epoch: 9 [0/60000 (0%)]\t1.518838\n",
      "Train Epoch: 9 [2000/60000 (3%)]\t1.497905\n",
      "Train Epoch: 9 [4000/60000 (7%)]\t1.554566\n",
      "Train Epoch: 9 [6000/60000 (10%)]\t1.541730\n",
      "Train Epoch: 9 [8000/60000 (13%)]\t1.528394\n",
      "Train Epoch: 9 [10000/60000 (17%)]\t1.518140\n",
      "Train Epoch: 9 [12000/60000 (20%)]\t1.508605\n",
      "Train Epoch: 9 [14000/60000 (23%)]\t1.507353\n",
      "Train Epoch: 9 [16000/60000 (27%)]\t1.534263\n",
      "Train Epoch: 9 [18000/60000 (30%)]\t1.525687\n",
      "Train Epoch: 9 [20000/60000 (33%)]\t1.495501\n",
      "Train Epoch: 9 [22000/60000 (37%)]\t1.533755\n",
      "Train Epoch: 9 [24000/60000 (40%)]\t1.526712\n",
      "Train Epoch: 9 [26000/60000 (43%)]\t1.508798\n",
      "Train Epoch: 9 [28000/60000 (47%)]\t1.564229\n",
      "Train Epoch: 9 [30000/60000 (50%)]\t1.539463\n",
      "Train Epoch: 9 [32000/60000 (53%)]\t1.545175\n",
      "Train Epoch: 9 [34000/60000 (57%)]\t1.506940\n",
      "Train Epoch: 9 [36000/60000 (60%)]\t1.577370\n",
      "Train Epoch: 9 [38000/60000 (63%)]\t1.537901\n",
      "Train Epoch: 9 [40000/60000 (67%)]\t1.535272\n",
      "Train Epoch: 9 [42000/60000 (70%)]\t1.469048\n",
      "Train Epoch: 9 [44000/60000 (73%)]\t1.512635\n",
      "Train Epoch: 9 [46000/60000 (77%)]\t1.518637\n",
      "Train Epoch: 9 [48000/60000 (80%)]\t1.520511\n",
      "Train Epoch: 9 [50000/60000 (83%)]\t1.517532\n",
      "Train Epoch: 9 [52000/60000 (87%)]\t1.564725\n",
      "Train Epoch: 9 [54000/60000 (90%)]\t1.530667\n",
      "Train Epoch: 9 [56000/60000 (93%)]\t1.541957\n",
      "Train Epoch: 9 [58000/60000 (97%)]\t1.558032\n"
     ]
    },
    {
     "name": "stderr",
     "output_type": "stream",
     "text": [
      "/Users/gavinxue/Library/Python/3.9/lib/python/site-packages/urllib3/__init__.py:34: NotOpenSSLWarning: urllib3 v2 only supports OpenSSL 1.1.1+, currently the 'ssl' module is compiled with 'LibreSSL 2.8.3'. See: https://github.com/urllib3/urllib3/issues/3020\n",
      "  warnings.warn(\n"
     ]
    },
    {
     "name": "stdout",
     "output_type": "stream",
     "text": [
      "\n",
      "Test set: Average loss: 10000.0000, Accuracy 97/10000 (1%\n",
      ")\n"
     ]
    },
    {
     "name": "stderr",
     "output_type": "stream",
     "text": [
      "/Users/gavinxue/Library/Python/3.9/lib/python/site-packages/urllib3/__init__.py:34: NotOpenSSLWarning: urllib3 v2 only supports OpenSSL 1.1.1+, currently the 'ssl' module is compiled with 'LibreSSL 2.8.3'. See: https://github.com/urllib3/urllib3/issues/3020\n",
      "  warnings.warn(\n"
     ]
    },
    {
     "name": "stdout",
     "output_type": "stream",
     "text": [
      "Train Epoch: 10 [0/60000 (0%)]\t1.517650\n",
      "Train Epoch: 10 [2000/60000 (3%)]\t1.538824\n",
      "Train Epoch: 10 [4000/60000 (7%)]\t1.529383\n",
      "Train Epoch: 10 [6000/60000 (10%)]\t1.500060\n",
      "Train Epoch: 10 [8000/60000 (13%)]\t1.554703\n",
      "Train Epoch: 10 [10000/60000 (17%)]\t1.552682\n",
      "Train Epoch: 10 [12000/60000 (20%)]\t1.553686\n",
      "Train Epoch: 10 [14000/60000 (23%)]\t1.519056\n",
      "Train Epoch: 10 [16000/60000 (27%)]\t1.524382\n",
      "Train Epoch: 10 [18000/60000 (30%)]\t1.512202\n",
      "Train Epoch: 10 [20000/60000 (33%)]\t1.538219\n",
      "Train Epoch: 10 [22000/60000 (37%)]\t1.514336\n",
      "Train Epoch: 10 [24000/60000 (40%)]\t1.525064\n",
      "Train Epoch: 10 [26000/60000 (43%)]\t1.505421\n",
      "Train Epoch: 10 [28000/60000 (47%)]\t1.474695\n",
      "Train Epoch: 10 [30000/60000 (50%)]\t1.543643\n",
      "Train Epoch: 10 [32000/60000 (53%)]\t1.514158\n",
      "Train Epoch: 10 [34000/60000 (57%)]\t1.546158\n",
      "Train Epoch: 10 [36000/60000 (60%)]\t1.509731\n",
      "Train Epoch: 10 [38000/60000 (63%)]\t1.514594\n",
      "Train Epoch: 10 [40000/60000 (67%)]\t1.542451\n",
      "Train Epoch: 10 [42000/60000 (70%)]\t1.518206\n",
      "Train Epoch: 10 [44000/60000 (73%)]\t1.530186\n",
      "Train Epoch: 10 [46000/60000 (77%)]\t1.521188\n",
      "Train Epoch: 10 [48000/60000 (80%)]\t1.511700\n",
      "Train Epoch: 10 [50000/60000 (83%)]\t1.555595\n",
      "Train Epoch: 10 [52000/60000 (87%)]\t1.523346\n",
      "Train Epoch: 10 [54000/60000 (90%)]\t1.530076\n",
      "Train Epoch: 10 [56000/60000 (93%)]\t1.519593\n",
      "Train Epoch: 10 [58000/60000 (97%)]\t1.485868\n"
     ]
    },
    {
     "name": "stderr",
     "output_type": "stream",
     "text": [
      "/Users/gavinxue/Library/Python/3.9/lib/python/site-packages/urllib3/__init__.py:34: NotOpenSSLWarning: urllib3 v2 only supports OpenSSL 1.1.1+, currently the 'ssl' module is compiled with 'LibreSSL 2.8.3'. See: https://github.com/urllib3/urllib3/issues/3020\n",
      "  warnings.warn(\n"
     ]
    },
    {
     "name": "stdout",
     "output_type": "stream",
     "text": [
      "\n",
      "Test set: Average loss: 10000.0000, Accuracy 96/10000 (1%\n",
      ")\n"
     ]
    }
   ],
   "source": [
    "for epoch in range(1, 11):\n",
    "    train(epoch)\n",
    "    test()"
   ]
  },
  {
   "cell_type": "code",
   "execution_count": 27,
   "metadata": {},
   "outputs": [
    {
     "name": "stdout",
     "output_type": "stream",
     "text": [
      "Prediction: 4\n"
     ]
    },
    {
     "name": "stderr",
     "output_type": "stream",
     "text": [
      "/var/folders/v9/22hd8vh13rl1n0dqbfsly1v40000gn/T/ipykernel_80574/1791202494.py:23: UserWarning: Implicit dimension choice for softmax has been deprecated. Change the call to include dim=X as an argument.\n",
      "  return F.softmax(x)\n"
     ]
    },
    {
     "data": {
      "image/png": "[encoded data removed]",
      "text/plain": [
       "<Figure size 640x480 with 1 Axes>"
      ]
     },
     "metadata": {},
     "output_type": "display_data"
    }
   ],
   "source": [
    "import matplotlib.pyplot as plt\n",
    "\n",
    "model.eval()\n",
    "\n",
    "data, target = test_data[4]\n",
    "\n",
    "output = model(data)\n",
    "\n",
    "prediction = output.argmax(dim=1, keepdim=True).item()\n",
    "\n",
    "print(f'Prediction: {prediction}')\n",
    "\n",
    "image = data.squeeze(0).squeeze(0).cpu().numpy()\n",
    "\n",
    "plt.imshow(image,cmap='gray')\n",
    "plt.show()"
   ]
  },
  {
   "cell_type": "code",
   "execution_count": null,
   "metadata": {},
   "outputs": [],
   "source": []
  }
 ],
 "metadata": {
  "kernelspec": {
   "display_name": "Python 3",
   "language": "python",
   "name": "python3"
  },
  "language_info": {
   "codemirror_mode": {
    "name": "ipython",
    "version": 3
   },
   "file_extension": ".py",
   "mimetype": "text/x-python",
   "name": "python",
   "nbconvert_exporter": "python",
   "pygments_lexer": "ipython3",
   "version": "3.9.6"
  }
 },
 "nbformat": 4,
 "nbformat_minor": 2
}
